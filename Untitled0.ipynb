{
  "nbformat": 4,
  "nbformat_minor": 0,
  "metadata": {
    "colab": {
      "name": "Untitled0.ipynb",
      "provenance": []
    },
    "kernelspec": {
      "name": "python3",
      "display_name": "Python 3"
    },
    "language_info": {
      "name": "python"
    }
  },
  "cells": [
    {
      "cell_type": "code",
      "execution_count": 1,
      "metadata": {
        "colab": {
          "base_uri": "https://localhost:8080/"
        },
        "id": "ON48hQsXcpC8",
        "outputId": "de59a603-7f4a-48d3-e275-1ad2263d12d6"
      },
      "outputs": [
        {
          "output_type": "stream",
          "name": "stdout",
          "text": [
            "1+2+...+100000000 5000000050000000\n",
            "time: 13.80559778213501 end\n"
          ]
        }
      ],
      "source": [
        "import time\n",
        "\n",
        "start=time.time()\n",
        "sum=0\n",
        "for i in range(1,100000001):\n",
        "    sum=sum+i\n",
        "    \n",
        "end=time.time()\n",
        "\n",
        "print('1+2+...+100000000',sum)\n",
        "print('time:', end-start,'end')"
      ]
    }
  ]
}